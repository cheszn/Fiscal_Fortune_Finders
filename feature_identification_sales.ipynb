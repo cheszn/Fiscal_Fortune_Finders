{
 "cells": [
  {
   "cell_type": "code",
   "execution_count": 1,
   "id": "1b5b0e0c-7f51-44d5-9135-ff1911952920",
   "metadata": {
    "tags": []
   },
   "outputs": [],
   "source": [
    "#importing all necessary libraries\n",
    "\n",
    "# Data Analysis\n",
    "import pandas as pd\n",
    "import numpy as np\n",
    "\n",
    "# Data Visualization\n",
    "import matplotlib.pyplot as plt\n",
    "import seaborn as sns\n",
    "\n",
    "#----regular expressions----\n",
    "import re\n",
    "\n",
    "#----model and support imports----\n",
    "from sklearn.model_selection import train_test_split\n",
    "from sklearn.ensemble import RandomForestClassifier\n",
    "from sklearn.linear_model import LogisticRegression\n",
    "from sklearn.model_selection import cross_val_score, cross_val_predict\n",
    "from sklearn.metrics import precision_recall_fscore_support\n",
    "from sklearn.metrics import confusion_matrix, classification_report, accuracy_score, recall_score, precision_score, f1_score, roc_auc_score, ConfusionMatrixDisplay\n",
    "from imblearn.under_sampling import RandomUnderSampler\n",
    "from xgboost import XGBClassifier\n",
    "from sklearn.model_selection import GridSearchCV\n",
    "from imblearn.pipeline import Pipeline as ImbPipeline\n",
    "from imblearn.pipeline import Pipeline as ImbPipeline\n",
    "from imblearn.over_sampling import SMOTE\n",
    "from sklearn.impute import SimpleImputer\n",
    "from sklearn.compose import ColumnTransformer\n",
    "from sklearn.pipeline import Pipeline\n",
    "from scipy.stats import uniform, randint\n",
    "\n",
    "# Feature Engineering\n",
    "from category_encoders import OneHotEncoder\n",
    "from sklearn.preprocessing import LabelEncoder\n",
    "from sklearn.preprocessing import MinMaxScaler\n",
    "from sklearn.preprocessing import StandardScaler\n",
    "from scipy.stats import pearsonr\n",
    "\n",
    "# Deployment\n",
    "from flask import Flask, render_template, request\n",
    "import pickle\n",
    "\n",
    "# Set the default style for plotting\n",
    "sns.set(style=\"whitegrid\")\n",
    "\n",
    "import warnings\n",
    "warnings.filterwarnings('ignore')\n",
    "\n",
    "# Set visualisation styles\n",
    "sns.set(style=\"whitegrid\")"
   ]
  },
  {
   "cell_type": "code",
   "execution_count": 2,
   "id": "1bc6523f-812c-4a6f-9029-231d0d3952b3",
   "metadata": {
    "tags": []
   },
   "outputs": [
    {
     "name": "stdout",
     "output_type": "stream",
     "text": [
      "<class 'pandas.core.frame.DataFrame'>\n",
      "RangeIndex: 12000 entries, 0 to 11999\n",
      "Data columns (total 13 columns):\n",
      " #   Column                          Non-Null Count  Dtype \n",
      "---  ------                          --------------  ----- \n",
      " 0   Opportunity ID                  12000 non-null  object\n",
      " 1   Technology\n",
      "Primary              12000 non-null  object\n",
      " 2   Country                         12000 non-null  object\n",
      " 3   B2B Sales Medium                12000 non-null  object\n",
      " 4   Sales Velocity                  12000 non-null  int64 \n",
      " 5   Opportunity Status              12000 non-null  object\n",
      " 6   Sales Stage Iterations          12000 non-null  int64 \n",
      " 7   Opportunity Size (USD)          12000 non-null  int64 \n",
      " 8   Client Revenue Sizing           12000 non-null  object\n",
      " 9   Client Employee Sizing          12000 non-null  object\n",
      " 10  Business from Client Last Year  12000 non-null  object\n",
      " 11  Compete Intel                   10540 non-null  object\n",
      " 12  Opportunity Sizing              12000 non-null  object\n",
      "dtypes: int64(3), object(10)\n",
      "memory usage: 1.2+ MB\n"
     ]
    }
   ],
   "source": [
    "#Loading dataset\n",
    "df = pd.read_csv('data/saas_pipeline_12K.csv')\n",
    "\n",
    "# Display the first few rows of the dataset to get an overview\n",
    "df.info()"
   ]
  },
  {
   "cell_type": "code",
   "execution_count": null,
   "id": "fa861230-6614-437e-a78d-aa6963ad8770",
   "metadata": {},
   "outputs": [],
   "source": []
  }
 ],
 "metadata": {
  "kernelspec": {
   "display_name": "Python 3 (ipykernel)",
   "language": "python",
   "name": "python3"
  },
  "language_info": {
   "codemirror_mode": {
    "name": "ipython",
    "version": 3
   },
   "file_extension": ".py",
   "mimetype": "text/x-python",
   "name": "python",
   "nbconvert_exporter": "python",
   "pygments_lexer": "ipython3",
   "version": "3.11.6"
  }
 },
 "nbformat": 4,
 "nbformat_minor": 5
}
